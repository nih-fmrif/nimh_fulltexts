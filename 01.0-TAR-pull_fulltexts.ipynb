{
 "cells": [
  {
   "cell_type": "code",
   "execution_count": 1,
   "metadata": {},
   "outputs": [],
   "source": [
    "import pandas as pd\n",
    "import urllib\n",
    "import requests\n",
    "import json"
   ]
  },
  {
   "cell_type": "code",
   "execution_count": 2,
   "metadata": {},
   "outputs": [],
   "source": [
    "nimh_papers = pd.read_csv('data/external/nimh_papers.csv')"
   ]
  },
  {
   "cell_type": "code",
   "execution_count": 3,
   "metadata": {},
   "outputs": [],
   "source": [
    "pmcids = nimh_papers.pmcid.tolist()"
   ]
  },
  {
   "cell_type": "markdown",
   "metadata": {},
   "source": [
    "Loop through to get all the texts. This took me around 3 hours. Also, there will inevitably be a few that are missed the first time around. They're logged in the misses_X.txt files, and you can go back and grab them after the thing is complete."
   ]
  },
  {
   "cell_type": "code",
   "execution_count": 4,
   "metadata": {},
   "outputs": [],
   "source": [
    "file_writes = [i for i in range(2500, len(pmcids), 2500)]"
   ]
  },
  {
   "cell_type": "code",
   "execution_count": 5,
   "metadata": {},
   "outputs": [
    {
     "data": {
      "text/plain": [
       "57771"
      ]
     },
     "execution_count": 5,
     "metadata": {},
     "output_type": "execute_result"
    }
   ],
   "source": [
    "len(pmcids)"
   ]
  },
  {
   "cell_type": "code",
   "execution_count": 7,
   "metadata": {},
   "outputs": [
    {
     "name": "stdout",
     "output_type": "stream",
     "text": [
      "2500\n",
      "5000\n",
      "7500\n",
      "10000\n",
      "12500\n",
      "15000\n",
      "17500\n",
      "20000\n",
      "22500\n",
      "25000\n",
      "27500\n",
      "30000\n",
      "32500\n",
      "35000\n",
      "37500\n",
      "40000\n",
      "42500\n",
      "45000\n",
      "47500\n",
      "50000\n",
      "52500\n",
      "55000\n",
      "57500\n"
     ]
    }
   ],
   "source": [
    "outdat = []\n",
    "missed = []\n",
    "for i, pmcid in enumerate(pmcids):\n",
    "    try:\n",
    "        pth = 'https://www.ncbi.nlm.nih.gov/research/bionlp/RESTful/pmcoa.cgi/BioC_json/PMC' + str(pmcid) + '/unicode'\n",
    "        r = requests.get(pth)\n",
    "        r_out = r.json()\n",
    "        outdat.append(r_out)\n",
    "    except:\n",
    "        missed.append(pmcid)\n",
    "    if i in file_writes:\n",
    "        print(i)\n",
    "        with open('data/interim/full_texts/papes_'+str(i)+'.txt', 'w') as fout:\n",
    "            json.dump(outdat, fout)\n",
    "        if len(missed)>0:\n",
    "            with open('data/interim/full_texts/misses_'+str(i)+'.txt', 'w') as f:\n",
    "                for item in missed:\n",
    "                    f.write(\"%s\\n\" % item)\n",
    "        outdat = []\n",
    "        missed = []\n",
    "\n",
    "#write the last handful\n",
    "with open('data/interim/full_texts/papes_'+str(i)+'.txt', 'w') as fout:\n",
    "    json.dump(outdat, fout)\n",
    "if len(missed)>0:\n",
    "    with open('data/interim/full_texts/misses_'+str(i)+'.txt', 'w') as f:\n",
    "        for item in missed:\n",
    "            f.write(\"%s\\n\" % item)"
   ]
  }
 ],
 "metadata": {
  "kernelspec": {
   "display_name": "Python [conda env:data_sharing_reuse] *",
   "language": "python",
   "name": "conda-env-data_sharing_reuse-py"
  },
  "language_info": {
   "codemirror_mode": {
    "name": "ipython",
    "version": 3
   },
   "file_extension": ".py",
   "mimetype": "text/x-python",
   "name": "python",
   "nbconvert_exporter": "python",
   "pygments_lexer": "ipython3",
   "version": "3.8.0"
  }
 },
 "nbformat": 4,
 "nbformat_minor": 2
}
