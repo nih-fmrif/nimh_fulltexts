{
 "cells": [
  {
   "cell_type": "code",
   "execution_count": 1,
   "metadata": {},
   "outputs": [],
   "source": [
    "import pandas as pd\n",
    "import urllib\n",
    "import requests\n",
    "import json"
   ]
  },
  {
   "cell_type": "code",
   "execution_count": 2,
   "metadata": {},
   "outputs": [
    {
     "name": "stderr",
     "output_type": "stream",
     "text": [
      "/home/riddleta/miniconda3/envs/data_sharing_reuse/lib/python3.8/site-packages/IPython/core/interactiveshell.py:3050: DtypeWarning: Columns (5) have mixed types. Specify dtype option on import or set low_memory=False.\n",
      "  has_raised = await self.run_ast_nodes(code_ast.body, cell_name,\n"
     ]
    }
   ],
   "source": [
    "nimh_papers = pd.read_csv('/home/riddleta/nimh_fulltexts/data/interim/nimh_papers.csv')"
   ]
  },
  {
   "cell_type": "code",
   "execution_count": 3,
   "metadata": {},
   "outputs": [],
   "source": [
    "pmcids = nimh_papers.PMCID.tolist()"
   ]
  },
  {
   "cell_type": "markdown",
   "metadata": {},
   "source": [
    "Loop through to get all the texts. This took me around 3 hours. Also, there will inevitably be a few that are missed the first time around. They're logged in the misses_X.txt files, and you can go back and try to grab them after the thing is complete. However, there is a subset of files that are not accessible through the API. I believe, but am not certain, that the discrepancy has to do with journal licensing policies. At the conclusion of this process, I have just under 58k papers."
   ]
  },
  {
   "cell_type": "code",
   "execution_count": 4,
   "metadata": {},
   "outputs": [],
   "source": [
    "file_writes = [i for i in range(2500, len(pmcids), 2500)]"
   ]
  },
  {
   "cell_type": "code",
   "execution_count": 5,
   "metadata": {},
   "outputs": [
    {
     "data": {
      "text/plain": [
       "68080"
      ]
     },
     "execution_count": 5,
     "metadata": {},
     "output_type": "execute_result"
    }
   ],
   "source": [
    "len(pmcids)"
   ]
  },
  {
   "cell_type": "code",
   "execution_count": 7,
   "metadata": {},
   "outputs": [
    {
     "name": "stdout",
     "output_type": "stream",
     "text": [
      "2500\n",
      "5000\n",
      "7500\n",
      "10000\n",
      "12500\n",
      "15000\n",
      "17500\n",
      "20000\n",
      "22500\n",
      "25000\n",
      "27500\n",
      "30000\n",
      "32500\n",
      "35000\n",
      "37500\n",
      "40000\n",
      "42500\n",
      "45000\n",
      "47500\n",
      "50000\n",
      "52500\n",
      "55000\n",
      "57500\n",
      "60000\n",
      "62500\n",
      "65000\n",
      "67500\n"
     ]
    }
   ],
   "source": [
    "outdat = []\n",
    "missed = []\n",
    "for i, pmcid in enumerate(pmcids):\n",
    "    try:\n",
    "        pth = 'https://www.ncbi.nlm.nih.gov/research/bionlp/RESTful/pmcoa.cgi/BioC_json/' + str(pmcid) + '/unicode'\n",
    "        r = requests.get(pth)\n",
    "        r_out = r.json()\n",
    "        outdat.append(r_out)\n",
    "    except:\n",
    "        missed.append(pmcid)\n",
    "    if i in file_writes:\n",
    "        print(i)\n",
    "        with open('/home/riddleta/nimh_fulltexts/data/interim/full_texts/papes_'+str(i)+'.txt', 'w') as fout:\n",
    "            json.dump(outdat, fout)\n",
    "        if len(missed)>0:\n",
    "            with open('/home/riddleta/nimh_fulltexts/data/interim/full_texts/misses_'+str(i)+'.txt', 'w') as f:\n",
    "                for item in missed:\n",
    "                    f.write(\"%s\\n\" % item)\n",
    "        outdat = []\n",
    "        missed = []\n",
    "\n",
    "#write the last handful\n",
    "with open('/home/riddleta/nimh_fulltexts/data/interim/full_texts/papes_'+str(i)+'.txt', 'w') as fout:\n",
    "    json.dump(outdat, fout)\n",
    "if len(missed)>0:\n",
    "    with open('/home/riddleta/nimh_fulltexts/data/interim/full_texts/misses_'+str(i)+'.txt', 'w') as f:\n",
    "        for item in missed:\n",
    "            f.write(\"%s\\n\" % item)"
   ]
  }
 ],
 "metadata": {
  "kernelspec": {
   "display_name": "Python [conda env:data_sharing_reuse] *",
   "language": "python",
   "name": "conda-env-data_sharing_reuse-py"
  },
  "language_info": {
   "codemirror_mode": {
    "name": "ipython",
    "version": 3
   },
   "file_extension": ".py",
   "mimetype": "text/x-python",
   "name": "python",
   "nbconvert_exporter": "python",
   "pygments_lexer": "ipython3",
   "version": "3.8.0"
  }
 },
 "nbformat": 4,
 "nbformat_minor": 2
}
